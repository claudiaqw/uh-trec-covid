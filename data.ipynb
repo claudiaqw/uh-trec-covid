{
 "cells": [
  {
   "cell_type": "code",
   "execution_count": 12,
   "metadata": {},
   "outputs": [],
   "source": [
    "import re\n",
    "import os\n",
    "import json\n",
    "import gzip\n",
    "import tarfile\n",
    "import itertools as itt\n",
    "\n",
    "from xml.etree import ElementTree\n",
    "#from tqdm import tqdm_notebook as tqdm\n",
    "from tqdm import tqdm"
   ]
  },
  {
   "cell_type": "code",
   "execution_count": 16,
   "metadata": {},
   "outputs": [],
   "source": [
    "ARTICLES = [\"./round2/biorxiv_medrxiv.tar.gz.tar.gz\", \"./round2/noncomm_use_subset.tar.gz\"]\n",
    "METADATA = \"./round2/metadata.csv\"\n",
    "TOPICS = \"./round2/topics-rnd2.xml\"\n",
    "VALID_DOCS = \"./round2/docids-rnd2.txt\"\n",
    "QRELS = \"./round1/qrels-rnd1.txt\""
   ]
  },
  {
   "cell_type": "code",
   "execution_count": 84,
   "metadata": {},
   "outputs": [],
   "source": [
    "def read_qrels(filepath):\n",
    "    result = {}\n",
    "    res = []\n",
    "    with open(filepath) as f:\n",
    "        for line in tqdm(f, desc='loading qrels (by line)', leave=False):\n",
    "            qid, _, docid, score = line.split()\n",
    "            result.setdefault(qid, {})[docid] = int(score)\n",
    "            res.append([qid, docid, score])\n",
    "    return res    "
   ]
  },
  {
   "cell_type": "code",
   "execution_count": 85,
   "metadata": {},
   "outputs": [],
   "source": [
    "def read_valid_docs(filepath):\n",
    "    with open(filepath) as f:\n",
    "        doc_ids = [line.strip() for line in tqdm(f, desc='loading qrels (by line)', leave=False)]\n",
    "    return doc_ids    "
   ]
  },
  {
   "cell_type": "code",
   "execution_count": 86,
   "metadata": {},
   "outputs": [],
   "source": [
    "class Topic():\n",
    "    def __init__(self, index, query, question, narrative):\n",
    "        self.index = index\n",
    "        self.query = query\n",
    "        self.question = question\n",
    "        self.narrative = narrative\n",
    "        self.text = self.query + \" \" + self.question + \" \" + self.narrative\n",
    "    \n",
    "    def __str__(self):\n",
    "        return self.index + \" \" + self.query"
   ]
  },
  {
   "cell_type": "code",
   "execution_count": 87,
   "metadata": {},
   "outputs": [],
   "source": [
    "class TopicCollection():    \n",
    "    def __init__(self, filepath):\n",
    "        self.topics = {}\n",
    "        tree = ElementTree.parse(filepath)        \n",
    "        for child in tree.getroot():\n",
    "            n = child.attrib['number']\n",
    "            query = child.find('query').text\n",
    "            question = child.find('question').text\n",
    "            narrative = child.find('narrative').text\n",
    "            self.topics[n] = Topic(n, query, question, narrative)\n",
    "     \n",
    "    def __length__(self):\n",
    "        return len(self.topics)    \n",
    "        \n",
    "    def get_topic(self, idx):\n",
    "        return self.topics[idx]    "
   ]
  }
 ],
 "metadata": {
  "kernelspec": {
   "display_name": "Python 3",
   "language": "python",
   "name": "python3"
  },
  "language_info": {
   "codemirror_mode": {
    "name": "ipython",
    "version": 3
   },
   "file_extension": ".py",
   "mimetype": "text/x-python",
   "name": "python",
   "nbconvert_exporter": "python",
   "pygments_lexer": "ipython3",
   "version": "3.7.6"
  }
 },
 "nbformat": 4,
 "nbformat_minor": 4
}
