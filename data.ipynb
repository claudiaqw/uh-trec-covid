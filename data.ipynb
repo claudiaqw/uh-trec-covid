{
 "cells": [
  {
   "cell_type": "code",
   "execution_count": 1,
   "metadata": {},
   "outputs": [],
   "source": [
    "import re\n",
    "import os\n",
    "import json\n",
    "import gzip\n",
    "import tarfile\n",
    "import itertools as itt\n",
    "\n",
    "from xml.etree import ElementTree\n",
    "from tqdm import tqdm_notebook as tqdm"
   ]
  },
  {
   "cell_type": "code",
   "execution_count": 13,
   "metadata": {},
   "outputs": [],
   "source": [
    "ARTICLES = [\"./round2/biorxiv_medrxiv.tar.gz.tar.gz\", \"./round2/noncomm_use_subset.tar.gz\"]\n",
    "METADATA = \"./round2/metadata.csv\"\n",
    "TOPICS = \"./round2/topics-rnd2.xml\"\n",
    "VALID_DOCS = \"./round2/docids-rnd2.txt\"\n",
    "QRELS = \"./round2/qrels-rnd2.txt\""
   ]
  },
  {
   "cell_type": "code",
   "execution_count": 65,
   "metadata": {},
   "outputs": [],
   "source": [
    "class Topic():\n",
    "    def __init__(self, index, query, question, narrative):\n",
    "        self.index = index\n",
    "        self.query = query\n",
    "        self.question = question\n",
    "        self.narrative = narrative\n",
    "    \n",
    "    def __str__(self):\n",
    "        return self.index + \" \" + self.query"
   ]
  },
  {
   "cell_type": "code",
   "execution_count": 66,
   "metadata": {},
   "outputs": [],
   "source": [
    "class TopicCollection():    \n",
    "    def __init__(self, path):\n",
    "        self.topics = {}\n",
    "        tree = ElementTree.parse(path)        \n",
    "        for child in tree.getroot():\n",
    "            n = child.attrib['number']\n",
    "            query = child.find('query').text\n",
    "            question = child.find('question').text\n",
    "            narrative = child.find('narrative').text\n",
    "            self.topics[int(n)] = Topic(n, query, question, narrative)\n",
    "     \n",
    "    def __length__(self):\n",
    "        return len(self.topics)\n",
    "    \n",
    "    def get_topic(self, idx):\n",
    "        return self.topics[idx]"
   ]
  },
  {
   "cell_type": "code",
   "execution_count": 67,
   "metadata": {},
   "outputs": [],
   "source": [
    "t = TopicCollection(TOPICS)"
   ]
  },
  {
   "cell_type": "code",
   "execution_count": 68,
   "metadata": {},
   "outputs": [
    {
     "data": {
      "text/plain": [
       "35"
      ]
     },
     "execution_count": 68,
     "metadata": {},
     "output_type": "execute_result"
    }
   ],
   "source": [
    "t.__length__()"
   ]
  },
  {
   "cell_type": "code",
   "execution_count": 69,
   "metadata": {},
   "outputs": [],
   "source": [
    "i = t.get_topic(1)\n",
    "print(i)"
   ]
  },
  {
   "cell_type": "code",
   "execution_count": 70,
   "metadata": {},
   "outputs": [
    {
     "name": "stdout",
     "output_type": "stream",
     "text": [
      "1 coronavirus origin\n"
     ]
    }
   ],
   "source": []
  },
  {
   "cell_type": "code",
   "execution_count": null,
   "metadata": {},
   "outputs": [],
   "source": []
  }
 ],
 "metadata": {
  "kernelspec": {
   "display_name": "Python 3",
   "language": "python",
   "name": "python3"
  },
  "language_info": {
   "codemirror_mode": {
    "name": "ipython",
    "version": 3
   },
   "file_extension": ".py",
   "mimetype": "text/x-python",
   "name": "python",
   "nbconvert_exporter": "python",
   "pygments_lexer": "ipython3",
   "version": "3.7.6"
  }
 },
 "nbformat": 4,
 "nbformat_minor": 4
}
