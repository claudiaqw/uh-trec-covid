{
 "cells": [
  {
   "cell_type": "markdown",
   "metadata": {},
   "source": [
    "#  RankerManager"
   ]
  },
  {
   "cell_type": "code",
   "execution_count": 1,
   "metadata": {},
   "outputs": [],
   "source": [
    "from data import TopicCollection, read_valid_docs\n",
    "from model import RankerManager, BertSimilarity"
   ]
  },
  {
   "cell_type": "code",
   "execution_count": 2,
   "metadata": {},
   "outputs": [],
   "source": [
    "ranking_model = BertSimilarity('./pretrained_models/scibert_scivocab_uncased')"
   ]
  },
  {
   "cell_type": "code",
   "execution_count": 3,
   "metadata": {},
   "outputs": [],
   "source": [
    "queries = TopicCollection()\n",
    "#valid_docs = read_valid_docs()\n",
    "valid_docs = ['wp1hd5w9', '6qpsxmgi']"
   ]
  },
  {
   "cell_type": "code",
   "execution_count": 4,
   "metadata": {},
   "outputs": [],
   "source": [
    "from trec_covid_data_loader import TrecCovidDatasetManager\n",
    "\n",
    "metadata_file_path = \"./data/round2/metadata.csv\"\n",
    "raw_data_folder = \"./data/round2/\"\n",
    "\n",
    "cov_dm = TrecCovidDatasetManager(raw_data_folder, metadata_file_path)\n",
    "cov_dm.load_metadata_from_csv()\n",
    "cov_dm.save_metadata_as_pickle()"
   ]
  },
  {
   "cell_type": "code",
   "execution_count": 5,
   "metadata": {},
   "outputs": [],
   "source": [
    "manager = RankerManager(ranking_model, queries, cov_dm, valid_docs)\n",
    "manager.manage_rank()"
   ]
  },
  {
   "cell_type": "markdown",
   "metadata": {},
   "source": [
    "# Testing BertSimilarity "
   ]
  },
  {
   "cell_type": "code",
   "execution_count": null,
   "metadata": {},
   "outputs": [],
   "source": [
    "query = \"coronavirus origin what is the origin of COVID-19\"\n",
    "doc = \"\"\"Rapidly developed AI-based automated CT image analysis tools can achieve high accuracy \\\\\n",
    "      \\u2022 Utilizing the deep-learning image analysis system developed, we achieved classification results \\\\\n",
    "      for Coronavirus vs Non-coronavirus cases per thoracic CT studies of 0.996 AUC (95%CI: 0.989-1.00) \\\\\n",
    "      on Chinese control and infected patients. Possible working point: 98.2% sensitivity, 92.2% specificity. \\\\\n",
    "      This initial study, which is currently being expanded to a larger population, demonstrated that rapidly \\\\\n",
    "      developed AI-based image analysis can achieve high accuracy in detection of Coronavirus as well as \\\\\n",
    "      quantification and tracking of disease burden. \\u2022 For Coronavirus patients the system outputs \\\\\n",
    "      quantitative opacity measurements and a visualization of the larger opacities in a slice-based heat map \\\\\n",
    "      or a 3D volume display. A suggested \\\"Corona score\\\" measures the progression of patients over time. \\\\\n",
    "      o The coronavirus infection surprised the world with its rapid spread and has had a major impact on the \\\\\n",
    "      lives of billions of people. Non-contrast thoracic CT has been shown to be an effective tool in detection, \\\\\n",
    "      quantification and follow-up of disease. Deep learning algorithms can be developed to assist in \\\\\n",
    "      analyzing potentially large numbers of thoracic CT exams.\"\"\""
   ]
  },
  {
   "cell_type": "code",
   "execution_count": null,
   "metadata": {},
   "outputs": [],
   "source": [
    "from model import BertSimilarity\n",
    "bert_sim = BertSimilarity('./pretrained_models/scibert_scivocab_uncased')\n",
    "sim = bert_sim.rank(query, doc)\n",
    "print(sim)"
   ]
  }
 ],
 "metadata": {
  "kernelspec": {
   "display_name": "Python 3",
   "language": "python",
   "name": "python3"
  },
  "language_info": {
   "codemirror_mode": {
    "name": "ipython",
    "version": 3
   },
   "file_extension": ".py",
   "mimetype": "text/x-python",
   "name": "python",
   "nbconvert_exporter": "python",
   "pygments_lexer": "ipython3",
   "version": "3.7.6"
  }
 },
 "nbformat": 4,
 "nbformat_minor": 4
}
